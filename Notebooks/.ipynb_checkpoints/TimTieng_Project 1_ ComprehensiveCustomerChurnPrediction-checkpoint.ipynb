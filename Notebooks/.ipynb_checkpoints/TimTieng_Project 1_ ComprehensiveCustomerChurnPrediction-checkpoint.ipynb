{
 "cells": [
  {
   "cell_type": "markdown",
   "metadata": {
    "id": "LP2OENPlk1mm"
   },
   "source": [
    "# Project 1: Comprehensive Customer Churn Prediction"
   ]
  },
  {
   "cell_type": "markdown",
   "metadata": {
    "id": "ITQiKNUJk0zP"
   },
   "source": [
    "## Project Overview\n",
    "\n",
    "In this project activity, you will dive into analyzing customer data from a business to predict churn risk comprehensively. You will not only apply traditional supervised learning algorithms such as decision trees and random forests but also explore logistic regression, support vector machines (SVMs), and k-nearest neighbors (KNN) to identify key churn factors. This expanded scope will enhance your understanding of different model assumptions, strengths, and weaknesses, enabling you to build a robust model to target potential churners effectively.\n",
    "\n",
    "In this project, you will:\n",
    "- **Evaluate** different supervised learning algorithms to understand their suitability for churn prediction.\n",
    "- **Implement** data preprocessing techniques tailored to the requirements of each algorithm.\n",
    "- **Optimize** model parameters to improve prediction accuracy.\n",
    "- **Interpret** the model outcomes to extract actionable insights for retention campaigns.\n",
    "\n",
    "**Estimated Completion Time**\n",
    "\n",
    "12 to 14 hours\n"
   ]
  },
  {
   "cell_type": "markdown",
   "metadata": {},
   "source": [
    "### Project Information\n",
    "    Python Version: 3.10.13\n",
    "    Python Packages: Outlined in pip_requirements.txt\n",
    "    Dataset: WA_Fn-UseC_-Telco-Customer-Churn.csv (Provided)\n",
    "    File Authors: Tim Tieng, Scott Mayer"
   ]
  },
  {
   "cell_type": "code",
   "execution_count": 2,
   "metadata": {
    "id": "HYXxqMjlkvc-"
   },
   "outputs": [],
   "source": [
    "# Import Packages: \n",
    "import numpy as np\n",
    "import pandas as pd\n",
    "\n",
    "# Visualizations\n",
    "import matplotlib.pyplot as plt\n",
    "import seaborn as sns\n",
    "\n",
    "# Algorithms, Modeling and preprocessing packages\n",
    "import feature_engine\n",
    "from scipy.stats import anderson\n",
    "from scipy.stats import chi2_contingency\n",
    "from sklearn.impute import SimpleImputer\n",
    "from sklearn.model_selection import train_test_split\n",
    "from sklearn.preprocessing import MinMaxScaler, StandardScaler\n",
    "\n",
    "# Deep Learning\n",
    "import keras"
   ]
  },
  {
   "cell_type": "markdown",
   "metadata": {
    "id": "qo2QVaaYlLdQ"
   },
   "source": [
    "## Task 1: Initial Data Exploration\n",
    "\n",
    "**Objective:** Load the dataset and perform an initial examination to understand its structure and identify any immediate cleaning needs.\n",
    "\n",
    "**Activities:**\n",
    "\n",
    "1. Load the dataset using pandas and display the first few rows to get an initial understanding of the data.\n",
    "2. Examine the dataset's shape to understand the scale of the data we're dealing with.\n",
    "3. Check the data types of each column to identify which are categorical and which are numerical.\n",
    "4. Identify any missing values in the dataset.\n",
    "5. Generate summary statistics for numerical columns to identify any immediate anomalies or outliers.\n",
    "\n",
    "\n",
    "**Estimated Completion Time:** 60 minutes"
   ]
  },
  {
   "cell_type": "markdown",
   "metadata": {
    "id": "p2xWQGzLDf58"
   },
   "source": [
    "**Hints:**\n",
    "\n",
    "* Use `pd.read_csv()` to load the dataset. Remember to `import pandas as pd`.\n",
    "* Use `.head()`, `.info()`, `.dtypes`, `.isnull().mean()`, and .`describe()` methods to explore the dataset."
   ]
  },
  {
   "cell_type": "markdown",
   "metadata": {},
   "source": [
    "### Task 1.1: Load the Dataset"
   ]
  },
  {
   "cell_type": "code",
   "execution_count": 25,
   "metadata": {},
   "outputs": [],
   "source": [
    "# Obtain - Read in the data, convert to PD Dataframe, and perform initial inspection of the dataset\n",
    "churn_file = pd.read_csv('../Data/WA_Fn-UseC_-Telco-Customer-Churn.csv')\n",
    "churn_df = pd.DataFrame(churn_file)"
   ]
  },
  {
   "cell_type": "markdown",
   "metadata": {},
   "source": [
    "### Task 1.2: Examine the Dataset:"
   ]
  },
  {
   "cell_type": "code",
   "execution_count": 27,
   "metadata": {},
   "outputs": [
    {
     "name": "stdout",
     "output_type": "stream",
     "text": [
      "(7043, 21)\n"
     ]
    }
   ],
   "source": [
    "print(churn_df.shape)"
   ]
  },
  {
   "cell_type": "markdown",
   "metadata": {},
   "source": [
    "#### Observations\n",
    "1. Rows/Observations: 7043 \n",
    "2. Attributes/Columns: 21\n",
    "3. Datatypes Present: int64(2x), float64(1x), string objects(18x)\n",
    "4. Memory Usage - 7.8 MB (Small)"
   ]
  },
  {
   "cell_type": "markdown",
   "metadata": {},
   "source": [
    "### Task 1.3: Check Datatypes"
   ]
  },
  {
   "cell_type": "code",
   "execution_count": 26,
   "metadata": {},
   "outputs": [
    {
     "name": "stdout",
     "output_type": "stream",
     "text": [
      "<class 'pandas.core.frame.DataFrame'>\n",
      "RangeIndex: 7043 entries, 0 to 7042\n",
      "Data columns (total 21 columns):\n",
      " #   Column            Non-Null Count  Dtype  \n",
      "---  ------            --------------  -----  \n",
      " 0   customerID        7043 non-null   object \n",
      " 1   gender            7043 non-null   object \n",
      " 2   SeniorCitizen     7043 non-null   int64  \n",
      " 3   Partner           7043 non-null   object \n",
      " 4   Dependents        7043 non-null   object \n",
      " 5   tenure            7043 non-null   int64  \n",
      " 6   PhoneService      7043 non-null   object \n",
      " 7   MultipleLines     7043 non-null   object \n",
      " 8   InternetService   7043 non-null   object \n",
      " 9   OnlineSecurity    7043 non-null   object \n",
      " 10  OnlineBackup      7043 non-null   object \n",
      " 11  DeviceProtection  7043 non-null   object \n",
      " 12  TechSupport       7043 non-null   object \n",
      " 13  StreamingTV       7043 non-null   object \n",
      " 14  StreamingMovies   7043 non-null   object \n",
      " 15  Contract          7043 non-null   object \n",
      " 16  PaperlessBilling  7043 non-null   object \n",
      " 17  PaymentMethod     7043 non-null   object \n",
      " 18  MonthlyCharges    7043 non-null   float64\n",
      " 19  TotalCharges      7043 non-null   object \n",
      " 20  Churn             7043 non-null   object \n",
      "dtypes: float64(1), int64(2), object(18)\n",
      "memory usage: 7.8 MB\n"
     ]
    }
   ],
   "source": [
    "# Initial inspect - Provde information on Attribute Names, Non-Null Count, Data Types, Memory Usage\n",
    "churn_df.info(memory_usage='deep')\n"
   ]
  },
  {
   "cell_type": "markdown",
   "metadata": {},
   "source": [
    "### Task 1.4: Check for Missing Values"
   ]
  },
  {
   "cell_type": "markdown",
   "metadata": {},
   "source": [
    "#### Observations \n",
    "TotalCharges has some values with whitespace strings. These need replaced with 0s. We will also change the SeniorCitizen Column to a string because although it contains 0s and 1s, it is a categorical column. Lastly, we are changing TotalCharges to a numerical column because it contains numerical data. "
   ]
  },
  {
   "cell_type": "code",
   "execution_count": 7,
   "metadata": {},
   "outputs": [
    {
     "data": {
      "text/plain": [
       "customerID          0.0\n",
       "DeviceProtection    0.0\n",
       "TotalCharges        0.0\n",
       "MonthlyCharges      0.0\n",
       "PaymentMethod       0.0\n",
       "PaperlessBilling    0.0\n",
       "Contract            0.0\n",
       "StreamingMovies     0.0\n",
       "StreamingTV         0.0\n",
       "TechSupport         0.0\n",
       "OnlineBackup        0.0\n",
       "gender              0.0\n",
       "OnlineSecurity      0.0\n",
       "InternetService     0.0\n",
       "MultipleLines       0.0\n",
       "PhoneService        0.0\n",
       "tenure              0.0\n",
       "Dependents          0.0\n",
       "Partner             0.0\n",
       "SeniorCitizen       0.0\n",
       "Churn               0.0\n",
       "dtype: float64"
      ]
     },
     "execution_count": 7,
     "metadata": {},
     "output_type": "execute_result"
    }
   ],
   "source": [
    "# Check for null Values - percentage per column\n",
    "churn_df.isna().mean().sort_values(ascending= False)\n",
    "# No null values "
   ]
  },
  {
   "cell_type": "code",
   "execution_count": 30,
   "metadata": {},
   "outputs": [
    {
     "name": "stdout",
     "output_type": "stream",
     "text": [
      "<class 'pandas.core.frame.DataFrame'>\n",
      "RangeIndex: 7043 entries, 0 to 7042\n",
      "Data columns (total 21 columns):\n",
      " #   Column            Non-Null Count  Dtype  \n",
      "---  ------            --------------  -----  \n",
      " 0   customerID        7043 non-null   object \n",
      " 1   gender            7043 non-null   object \n",
      " 2   SeniorCitizen     7043 non-null   object \n",
      " 3   Partner           7043 non-null   object \n",
      " 4   Dependents        7043 non-null   object \n",
      " 5   tenure            7043 non-null   int64  \n",
      " 6   PhoneService      7043 non-null   object \n",
      " 7   MultipleLines     7043 non-null   object \n",
      " 8   InternetService   7043 non-null   object \n",
      " 9   OnlineSecurity    7043 non-null   object \n",
      " 10  OnlineBackup      7043 non-null   object \n",
      " 11  DeviceProtection  7043 non-null   object \n",
      " 12  TechSupport       7043 non-null   object \n",
      " 13  StreamingTV       7043 non-null   object \n",
      " 14  StreamingMovies   7043 non-null   object \n",
      " 15  Contract          7043 non-null   object \n",
      " 16  PaperlessBilling  7043 non-null   object \n",
      " 17  PaymentMethod     7043 non-null   object \n",
      " 18  MonthlyCharges    7043 non-null   float64\n",
      " 19  TotalCharges      7043 non-null   float64\n",
      " 20  Churn             7043 non-null   object \n",
      "dtypes: float64(2), int64(1), object(18)\n",
      "memory usage: 7.8 MB\n"
     ]
    }
   ],
   "source": [
    "churn_df.TotalCharges = churn_df['TotalCharges'].replace(' ', 0)\n",
    "churn_df['SeniorCitizen'] = churn_df['SeniorCitizen'].astype('str')\n",
    "churn_df['TotalCharges'] = pd.to_numeric(churn_df['TotalCharges'])\n",
    "churn_df.info(memory_usage='deep')"
   ]
  },
  {
   "cell_type": "markdown",
   "metadata": {},
   "source": [
    "### Task 1.5: Generate Summary Statistics"
   ]
  },
  {
   "cell_type": "code",
   "execution_count": 6,
   "metadata": {},
   "outputs": [
    {
     "data": {
      "text/html": [
       "<div>\n",
       "<style scoped>\n",
       "    .dataframe tbody tr th:only-of-type {\n",
       "        vertical-align: middle;\n",
       "    }\n",
       "\n",
       "    .dataframe tbody tr th {\n",
       "        vertical-align: top;\n",
       "    }\n",
       "\n",
       "    .dataframe thead th {\n",
       "        text-align: right;\n",
       "    }\n",
       "</style>\n",
       "<table border=\"1\" class=\"dataframe\">\n",
       "  <thead>\n",
       "    <tr style=\"text-align: right;\">\n",
       "      <th></th>\n",
       "      <th>customerID</th>\n",
       "      <th>gender</th>\n",
       "      <th>SeniorCitizen</th>\n",
       "      <th>Partner</th>\n",
       "      <th>Dependents</th>\n",
       "      <th>tenure</th>\n",
       "      <th>PhoneService</th>\n",
       "      <th>MultipleLines</th>\n",
       "      <th>InternetService</th>\n",
       "      <th>OnlineSecurity</th>\n",
       "      <th>...</th>\n",
       "      <th>DeviceProtection</th>\n",
       "      <th>TechSupport</th>\n",
       "      <th>StreamingTV</th>\n",
       "      <th>StreamingMovies</th>\n",
       "      <th>Contract</th>\n",
       "      <th>PaperlessBilling</th>\n",
       "      <th>PaymentMethod</th>\n",
       "      <th>MonthlyCharges</th>\n",
       "      <th>TotalCharges</th>\n",
       "      <th>Churn</th>\n",
       "    </tr>\n",
       "  </thead>\n",
       "  <tbody>\n",
       "    <tr>\n",
       "      <th>0</th>\n",
       "      <td>7590-VHVEG</td>\n",
       "      <td>Female</td>\n",
       "      <td>0</td>\n",
       "      <td>Yes</td>\n",
       "      <td>No</td>\n",
       "      <td>1</td>\n",
       "      <td>No</td>\n",
       "      <td>No phone service</td>\n",
       "      <td>DSL</td>\n",
       "      <td>No</td>\n",
       "      <td>...</td>\n",
       "      <td>No</td>\n",
       "      <td>No</td>\n",
       "      <td>No</td>\n",
       "      <td>No</td>\n",
       "      <td>Month-to-month</td>\n",
       "      <td>Yes</td>\n",
       "      <td>Electronic check</td>\n",
       "      <td>29.85</td>\n",
       "      <td>29.85</td>\n",
       "      <td>No</td>\n",
       "    </tr>\n",
       "    <tr>\n",
       "      <th>1</th>\n",
       "      <td>5575-GNVDE</td>\n",
       "      <td>Male</td>\n",
       "      <td>0</td>\n",
       "      <td>No</td>\n",
       "      <td>No</td>\n",
       "      <td>34</td>\n",
       "      <td>Yes</td>\n",
       "      <td>No</td>\n",
       "      <td>DSL</td>\n",
       "      <td>Yes</td>\n",
       "      <td>...</td>\n",
       "      <td>Yes</td>\n",
       "      <td>No</td>\n",
       "      <td>No</td>\n",
       "      <td>No</td>\n",
       "      <td>One year</td>\n",
       "      <td>No</td>\n",
       "      <td>Mailed check</td>\n",
       "      <td>56.95</td>\n",
       "      <td>1889.50</td>\n",
       "      <td>No</td>\n",
       "    </tr>\n",
       "    <tr>\n",
       "      <th>2</th>\n",
       "      <td>3668-QPYBK</td>\n",
       "      <td>Male</td>\n",
       "      <td>0</td>\n",
       "      <td>No</td>\n",
       "      <td>No</td>\n",
       "      <td>2</td>\n",
       "      <td>Yes</td>\n",
       "      <td>No</td>\n",
       "      <td>DSL</td>\n",
       "      <td>Yes</td>\n",
       "      <td>...</td>\n",
       "      <td>No</td>\n",
       "      <td>No</td>\n",
       "      <td>No</td>\n",
       "      <td>No</td>\n",
       "      <td>Month-to-month</td>\n",
       "      <td>Yes</td>\n",
       "      <td>Mailed check</td>\n",
       "      <td>53.85</td>\n",
       "      <td>108.15</td>\n",
       "      <td>Yes</td>\n",
       "    </tr>\n",
       "    <tr>\n",
       "      <th>3</th>\n",
       "      <td>7795-CFOCW</td>\n",
       "      <td>Male</td>\n",
       "      <td>0</td>\n",
       "      <td>No</td>\n",
       "      <td>No</td>\n",
       "      <td>45</td>\n",
       "      <td>No</td>\n",
       "      <td>No phone service</td>\n",
       "      <td>DSL</td>\n",
       "      <td>Yes</td>\n",
       "      <td>...</td>\n",
       "      <td>Yes</td>\n",
       "      <td>Yes</td>\n",
       "      <td>No</td>\n",
       "      <td>No</td>\n",
       "      <td>One year</td>\n",
       "      <td>No</td>\n",
       "      <td>Bank transfer (automatic)</td>\n",
       "      <td>42.30</td>\n",
       "      <td>1840.75</td>\n",
       "      <td>No</td>\n",
       "    </tr>\n",
       "    <tr>\n",
       "      <th>4</th>\n",
       "      <td>9237-HQITU</td>\n",
       "      <td>Female</td>\n",
       "      <td>0</td>\n",
       "      <td>No</td>\n",
       "      <td>No</td>\n",
       "      <td>2</td>\n",
       "      <td>Yes</td>\n",
       "      <td>No</td>\n",
       "      <td>Fiber optic</td>\n",
       "      <td>No</td>\n",
       "      <td>...</td>\n",
       "      <td>No</td>\n",
       "      <td>No</td>\n",
       "      <td>No</td>\n",
       "      <td>No</td>\n",
       "      <td>Month-to-month</td>\n",
       "      <td>Yes</td>\n",
       "      <td>Electronic check</td>\n",
       "      <td>70.70</td>\n",
       "      <td>151.65</td>\n",
       "      <td>Yes</td>\n",
       "    </tr>\n",
       "  </tbody>\n",
       "</table>\n",
       "<p>5 rows × 21 columns</p>\n",
       "</div>"
      ],
      "text/plain": [
       "   customerID  gender SeniorCitizen Partner Dependents  tenure PhoneService  \\\n",
       "0  7590-VHVEG  Female             0     Yes         No       1           No   \n",
       "1  5575-GNVDE    Male             0      No         No      34          Yes   \n",
       "2  3668-QPYBK    Male             0      No         No       2          Yes   \n",
       "3  7795-CFOCW    Male             0      No         No      45           No   \n",
       "4  9237-HQITU  Female             0      No         No       2          Yes   \n",
       "\n",
       "      MultipleLines InternetService OnlineSecurity  ... DeviceProtection  \\\n",
       "0  No phone service             DSL             No  ...               No   \n",
       "1                No             DSL            Yes  ...              Yes   \n",
       "2                No             DSL            Yes  ...               No   \n",
       "3  No phone service             DSL            Yes  ...              Yes   \n",
       "4                No     Fiber optic             No  ...               No   \n",
       "\n",
       "  TechSupport StreamingTV StreamingMovies        Contract PaperlessBilling  \\\n",
       "0          No          No              No  Month-to-month              Yes   \n",
       "1          No          No              No        One year               No   \n",
       "2          No          No              No  Month-to-month              Yes   \n",
       "3         Yes          No              No        One year               No   \n",
       "4          No          No              No  Month-to-month              Yes   \n",
       "\n",
       "               PaymentMethod MonthlyCharges  TotalCharges  Churn  \n",
       "0           Electronic check          29.85         29.85     No  \n",
       "1               Mailed check          56.95       1889.50     No  \n",
       "2               Mailed check          53.85        108.15    Yes  \n",
       "3  Bank transfer (automatic)          42.30       1840.75     No  \n",
       "4           Electronic check          70.70        151.65    Yes  \n",
       "\n",
       "[5 rows x 21 columns]"
      ]
     },
     "execution_count": 6,
     "metadata": {},
     "output_type": "execute_result"
    }
   ],
   "source": [
    "# Intial Inspection of data using head()\n",
    "churn_df.head()"
   ]
  },
  {
   "cell_type": "code",
   "execution_count": 8,
   "metadata": {},
   "outputs": [
    {
     "data": {
      "text/html": [
       "<div>\n",
       "<style scoped>\n",
       "    .dataframe tbody tr th:only-of-type {\n",
       "        vertical-align: middle;\n",
       "    }\n",
       "\n",
       "    .dataframe tbody tr th {\n",
       "        vertical-align: top;\n",
       "    }\n",
       "\n",
       "    .dataframe thead th {\n",
       "        text-align: right;\n",
       "    }\n",
       "</style>\n",
       "<table border=\"1\" class=\"dataframe\">\n",
       "  <thead>\n",
       "    <tr style=\"text-align: right;\">\n",
       "      <th></th>\n",
       "      <th>tenure</th>\n",
       "      <th>MonthlyCharges</th>\n",
       "      <th>TotalCharges</th>\n",
       "    </tr>\n",
       "  </thead>\n",
       "  <tbody>\n",
       "    <tr>\n",
       "      <th>count</th>\n",
       "      <td>7043.000000</td>\n",
       "      <td>7043.000000</td>\n",
       "      <td>7043.000000</td>\n",
       "    </tr>\n",
       "    <tr>\n",
       "      <th>mean</th>\n",
       "      <td>32.371149</td>\n",
       "      <td>64.761692</td>\n",
       "      <td>2279.734304</td>\n",
       "    </tr>\n",
       "    <tr>\n",
       "      <th>std</th>\n",
       "      <td>24.559481</td>\n",
       "      <td>30.090047</td>\n",
       "      <td>2266.794470</td>\n",
       "    </tr>\n",
       "    <tr>\n",
       "      <th>min</th>\n",
       "      <td>0.000000</td>\n",
       "      <td>18.250000</td>\n",
       "      <td>0.000000</td>\n",
       "    </tr>\n",
       "    <tr>\n",
       "      <th>25%</th>\n",
       "      <td>9.000000</td>\n",
       "      <td>35.500000</td>\n",
       "      <td>398.550000</td>\n",
       "    </tr>\n",
       "    <tr>\n",
       "      <th>50%</th>\n",
       "      <td>29.000000</td>\n",
       "      <td>70.350000</td>\n",
       "      <td>1394.550000</td>\n",
       "    </tr>\n",
       "    <tr>\n",
       "      <th>75%</th>\n",
       "      <td>55.000000</td>\n",
       "      <td>89.850000</td>\n",
       "      <td>3786.600000</td>\n",
       "    </tr>\n",
       "    <tr>\n",
       "      <th>max</th>\n",
       "      <td>72.000000</td>\n",
       "      <td>118.750000</td>\n",
       "      <td>8684.800000</td>\n",
       "    </tr>\n",
       "  </tbody>\n",
       "</table>\n",
       "</div>"
      ],
      "text/plain": [
       "            tenure  MonthlyCharges  TotalCharges\n",
       "count  7043.000000     7043.000000   7043.000000\n",
       "mean     32.371149       64.761692   2279.734304\n",
       "std      24.559481       30.090047   2266.794470\n",
       "min       0.000000       18.250000      0.000000\n",
       "25%       9.000000       35.500000    398.550000\n",
       "50%      29.000000       70.350000   1394.550000\n",
       "75%      55.000000       89.850000   3786.600000\n",
       "max      72.000000      118.750000   8684.800000"
      ]
     },
     "execution_count": 8,
     "metadata": {},
     "output_type": "execute_result"
    }
   ],
   "source": [
    "# Desriptive Statistics -Numerical Attributes\n",
    "churn_df.describe()"
   ]
  },
  {
   "cell_type": "code",
   "execution_count": 9,
   "metadata": {},
   "outputs": [
    {
     "data": {
      "text/html": [
       "<div>\n",
       "<style scoped>\n",
       "    .dataframe tbody tr th:only-of-type {\n",
       "        vertical-align: middle;\n",
       "    }\n",
       "\n",
       "    .dataframe tbody tr th {\n",
       "        vertical-align: top;\n",
       "    }\n",
       "\n",
       "    .dataframe thead th {\n",
       "        text-align: right;\n",
       "    }\n",
       "</style>\n",
       "<table border=\"1\" class=\"dataframe\">\n",
       "  <thead>\n",
       "    <tr style=\"text-align: right;\">\n",
       "      <th></th>\n",
       "      <th>customerID</th>\n",
       "      <th>gender</th>\n",
       "      <th>SeniorCitizen</th>\n",
       "      <th>Partner</th>\n",
       "      <th>Dependents</th>\n",
       "      <th>tenure</th>\n",
       "      <th>PhoneService</th>\n",
       "      <th>MultipleLines</th>\n",
       "      <th>InternetService</th>\n",
       "      <th>OnlineSecurity</th>\n",
       "      <th>...</th>\n",
       "      <th>DeviceProtection</th>\n",
       "      <th>TechSupport</th>\n",
       "      <th>StreamingTV</th>\n",
       "      <th>StreamingMovies</th>\n",
       "      <th>Contract</th>\n",
       "      <th>PaperlessBilling</th>\n",
       "      <th>PaymentMethod</th>\n",
       "      <th>MonthlyCharges</th>\n",
       "      <th>TotalCharges</th>\n",
       "      <th>Churn</th>\n",
       "    </tr>\n",
       "  </thead>\n",
       "  <tbody>\n",
       "    <tr>\n",
       "      <th>count</th>\n",
       "      <td>7043</td>\n",
       "      <td>7043</td>\n",
       "      <td>7043</td>\n",
       "      <td>7043</td>\n",
       "      <td>7043</td>\n",
       "      <td>7043.000000</td>\n",
       "      <td>7043</td>\n",
       "      <td>7043</td>\n",
       "      <td>7043</td>\n",
       "      <td>7043</td>\n",
       "      <td>...</td>\n",
       "      <td>7043</td>\n",
       "      <td>7043</td>\n",
       "      <td>7043</td>\n",
       "      <td>7043</td>\n",
       "      <td>7043</td>\n",
       "      <td>7043</td>\n",
       "      <td>7043</td>\n",
       "      <td>7043.000000</td>\n",
       "      <td>7043.000000</td>\n",
       "      <td>7043</td>\n",
       "    </tr>\n",
       "    <tr>\n",
       "      <th>unique</th>\n",
       "      <td>7043</td>\n",
       "      <td>2</td>\n",
       "      <td>2</td>\n",
       "      <td>2</td>\n",
       "      <td>2</td>\n",
       "      <td>NaN</td>\n",
       "      <td>2</td>\n",
       "      <td>3</td>\n",
       "      <td>3</td>\n",
       "      <td>3</td>\n",
       "      <td>...</td>\n",
       "      <td>3</td>\n",
       "      <td>3</td>\n",
       "      <td>3</td>\n",
       "      <td>3</td>\n",
       "      <td>3</td>\n",
       "      <td>2</td>\n",
       "      <td>4</td>\n",
       "      <td>NaN</td>\n",
       "      <td>NaN</td>\n",
       "      <td>2</td>\n",
       "    </tr>\n",
       "    <tr>\n",
       "      <th>top</th>\n",
       "      <td>7590-VHVEG</td>\n",
       "      <td>Male</td>\n",
       "      <td>0</td>\n",
       "      <td>No</td>\n",
       "      <td>No</td>\n",
       "      <td>NaN</td>\n",
       "      <td>Yes</td>\n",
       "      <td>No</td>\n",
       "      <td>Fiber optic</td>\n",
       "      <td>No</td>\n",
       "      <td>...</td>\n",
       "      <td>No</td>\n",
       "      <td>No</td>\n",
       "      <td>No</td>\n",
       "      <td>No</td>\n",
       "      <td>Month-to-month</td>\n",
       "      <td>Yes</td>\n",
       "      <td>Electronic check</td>\n",
       "      <td>NaN</td>\n",
       "      <td>NaN</td>\n",
       "      <td>No</td>\n",
       "    </tr>\n",
       "    <tr>\n",
       "      <th>freq</th>\n",
       "      <td>1</td>\n",
       "      <td>3555</td>\n",
       "      <td>5901</td>\n",
       "      <td>3641</td>\n",
       "      <td>4933</td>\n",
       "      <td>NaN</td>\n",
       "      <td>6361</td>\n",
       "      <td>3390</td>\n",
       "      <td>3096</td>\n",
       "      <td>3498</td>\n",
       "      <td>...</td>\n",
       "      <td>3095</td>\n",
       "      <td>3473</td>\n",
       "      <td>2810</td>\n",
       "      <td>2785</td>\n",
       "      <td>3875</td>\n",
       "      <td>4171</td>\n",
       "      <td>2365</td>\n",
       "      <td>NaN</td>\n",
       "      <td>NaN</td>\n",
       "      <td>5174</td>\n",
       "    </tr>\n",
       "    <tr>\n",
       "      <th>mean</th>\n",
       "      <td>NaN</td>\n",
       "      <td>NaN</td>\n",
       "      <td>NaN</td>\n",
       "      <td>NaN</td>\n",
       "      <td>NaN</td>\n",
       "      <td>32.371149</td>\n",
       "      <td>NaN</td>\n",
       "      <td>NaN</td>\n",
       "      <td>NaN</td>\n",
       "      <td>NaN</td>\n",
       "      <td>...</td>\n",
       "      <td>NaN</td>\n",
       "      <td>NaN</td>\n",
       "      <td>NaN</td>\n",
       "      <td>NaN</td>\n",
       "      <td>NaN</td>\n",
       "      <td>NaN</td>\n",
       "      <td>NaN</td>\n",
       "      <td>64.761692</td>\n",
       "      <td>2279.734304</td>\n",
       "      <td>NaN</td>\n",
       "    </tr>\n",
       "    <tr>\n",
       "      <th>std</th>\n",
       "      <td>NaN</td>\n",
       "      <td>NaN</td>\n",
       "      <td>NaN</td>\n",
       "      <td>NaN</td>\n",
       "      <td>NaN</td>\n",
       "      <td>24.559481</td>\n",
       "      <td>NaN</td>\n",
       "      <td>NaN</td>\n",
       "      <td>NaN</td>\n",
       "      <td>NaN</td>\n",
       "      <td>...</td>\n",
       "      <td>NaN</td>\n",
       "      <td>NaN</td>\n",
       "      <td>NaN</td>\n",
       "      <td>NaN</td>\n",
       "      <td>NaN</td>\n",
       "      <td>NaN</td>\n",
       "      <td>NaN</td>\n",
       "      <td>30.090047</td>\n",
       "      <td>2266.794470</td>\n",
       "      <td>NaN</td>\n",
       "    </tr>\n",
       "    <tr>\n",
       "      <th>min</th>\n",
       "      <td>NaN</td>\n",
       "      <td>NaN</td>\n",
       "      <td>NaN</td>\n",
       "      <td>NaN</td>\n",
       "      <td>NaN</td>\n",
       "      <td>0.000000</td>\n",
       "      <td>NaN</td>\n",
       "      <td>NaN</td>\n",
       "      <td>NaN</td>\n",
       "      <td>NaN</td>\n",
       "      <td>...</td>\n",
       "      <td>NaN</td>\n",
       "      <td>NaN</td>\n",
       "      <td>NaN</td>\n",
       "      <td>NaN</td>\n",
       "      <td>NaN</td>\n",
       "      <td>NaN</td>\n",
       "      <td>NaN</td>\n",
       "      <td>18.250000</td>\n",
       "      <td>0.000000</td>\n",
       "      <td>NaN</td>\n",
       "    </tr>\n",
       "    <tr>\n",
       "      <th>25%</th>\n",
       "      <td>NaN</td>\n",
       "      <td>NaN</td>\n",
       "      <td>NaN</td>\n",
       "      <td>NaN</td>\n",
       "      <td>NaN</td>\n",
       "      <td>9.000000</td>\n",
       "      <td>NaN</td>\n",
       "      <td>NaN</td>\n",
       "      <td>NaN</td>\n",
       "      <td>NaN</td>\n",
       "      <td>...</td>\n",
       "      <td>NaN</td>\n",
       "      <td>NaN</td>\n",
       "      <td>NaN</td>\n",
       "      <td>NaN</td>\n",
       "      <td>NaN</td>\n",
       "      <td>NaN</td>\n",
       "      <td>NaN</td>\n",
       "      <td>35.500000</td>\n",
       "      <td>398.550000</td>\n",
       "      <td>NaN</td>\n",
       "    </tr>\n",
       "    <tr>\n",
       "      <th>50%</th>\n",
       "      <td>NaN</td>\n",
       "      <td>NaN</td>\n",
       "      <td>NaN</td>\n",
       "      <td>NaN</td>\n",
       "      <td>NaN</td>\n",
       "      <td>29.000000</td>\n",
       "      <td>NaN</td>\n",
       "      <td>NaN</td>\n",
       "      <td>NaN</td>\n",
       "      <td>NaN</td>\n",
       "      <td>...</td>\n",
       "      <td>NaN</td>\n",
       "      <td>NaN</td>\n",
       "      <td>NaN</td>\n",
       "      <td>NaN</td>\n",
       "      <td>NaN</td>\n",
       "      <td>NaN</td>\n",
       "      <td>NaN</td>\n",
       "      <td>70.350000</td>\n",
       "      <td>1394.550000</td>\n",
       "      <td>NaN</td>\n",
       "    </tr>\n",
       "    <tr>\n",
       "      <th>75%</th>\n",
       "      <td>NaN</td>\n",
       "      <td>NaN</td>\n",
       "      <td>NaN</td>\n",
       "      <td>NaN</td>\n",
       "      <td>NaN</td>\n",
       "      <td>55.000000</td>\n",
       "      <td>NaN</td>\n",
       "      <td>NaN</td>\n",
       "      <td>NaN</td>\n",
       "      <td>NaN</td>\n",
       "      <td>...</td>\n",
       "      <td>NaN</td>\n",
       "      <td>NaN</td>\n",
       "      <td>NaN</td>\n",
       "      <td>NaN</td>\n",
       "      <td>NaN</td>\n",
       "      <td>NaN</td>\n",
       "      <td>NaN</td>\n",
       "      <td>89.850000</td>\n",
       "      <td>3786.600000</td>\n",
       "      <td>NaN</td>\n",
       "    </tr>\n",
       "    <tr>\n",
       "      <th>max</th>\n",
       "      <td>NaN</td>\n",
       "      <td>NaN</td>\n",
       "      <td>NaN</td>\n",
       "      <td>NaN</td>\n",
       "      <td>NaN</td>\n",
       "      <td>72.000000</td>\n",
       "      <td>NaN</td>\n",
       "      <td>NaN</td>\n",
       "      <td>NaN</td>\n",
       "      <td>NaN</td>\n",
       "      <td>...</td>\n",
       "      <td>NaN</td>\n",
       "      <td>NaN</td>\n",
       "      <td>NaN</td>\n",
       "      <td>NaN</td>\n",
       "      <td>NaN</td>\n",
       "      <td>NaN</td>\n",
       "      <td>NaN</td>\n",
       "      <td>118.750000</td>\n",
       "      <td>8684.800000</td>\n",
       "      <td>NaN</td>\n",
       "    </tr>\n",
       "  </tbody>\n",
       "</table>\n",
       "<p>11 rows × 21 columns</p>\n",
       "</div>"
      ],
      "text/plain": [
       "        customerID gender SeniorCitizen Partner Dependents       tenure  \\\n",
       "count         7043   7043          7043    7043       7043  7043.000000   \n",
       "unique        7043      2             2       2          2          NaN   \n",
       "top     7590-VHVEG   Male             0      No         No          NaN   \n",
       "freq             1   3555          5901    3641       4933          NaN   \n",
       "mean           NaN    NaN           NaN     NaN        NaN    32.371149   \n",
       "std            NaN    NaN           NaN     NaN        NaN    24.559481   \n",
       "min            NaN    NaN           NaN     NaN        NaN     0.000000   \n",
       "25%            NaN    NaN           NaN     NaN        NaN     9.000000   \n",
       "50%            NaN    NaN           NaN     NaN        NaN    29.000000   \n",
       "75%            NaN    NaN           NaN     NaN        NaN    55.000000   \n",
       "max            NaN    NaN           NaN     NaN        NaN    72.000000   \n",
       "\n",
       "       PhoneService MultipleLines InternetService OnlineSecurity  ...  \\\n",
       "count          7043          7043            7043           7043  ...   \n",
       "unique            2             3               3              3  ...   \n",
       "top             Yes            No     Fiber optic             No  ...   \n",
       "freq           6361          3390            3096           3498  ...   \n",
       "mean            NaN           NaN             NaN            NaN  ...   \n",
       "std             NaN           NaN             NaN            NaN  ...   \n",
       "min             NaN           NaN             NaN            NaN  ...   \n",
       "25%             NaN           NaN             NaN            NaN  ...   \n",
       "50%             NaN           NaN             NaN            NaN  ...   \n",
       "75%             NaN           NaN             NaN            NaN  ...   \n",
       "max             NaN           NaN             NaN            NaN  ...   \n",
       "\n",
       "       DeviceProtection TechSupport StreamingTV StreamingMovies  \\\n",
       "count              7043        7043        7043            7043   \n",
       "unique                3           3           3               3   \n",
       "top                  No          No          No              No   \n",
       "freq               3095        3473        2810            2785   \n",
       "mean                NaN         NaN         NaN             NaN   \n",
       "std                 NaN         NaN         NaN             NaN   \n",
       "min                 NaN         NaN         NaN             NaN   \n",
       "25%                 NaN         NaN         NaN             NaN   \n",
       "50%                 NaN         NaN         NaN             NaN   \n",
       "75%                 NaN         NaN         NaN             NaN   \n",
       "max                 NaN         NaN         NaN             NaN   \n",
       "\n",
       "              Contract PaperlessBilling     PaymentMethod MonthlyCharges  \\\n",
       "count             7043             7043              7043    7043.000000   \n",
       "unique               3                2                 4            NaN   \n",
       "top     Month-to-month              Yes  Electronic check            NaN   \n",
       "freq              3875             4171              2365            NaN   \n",
       "mean               NaN              NaN               NaN      64.761692   \n",
       "std                NaN              NaN               NaN      30.090047   \n",
       "min                NaN              NaN               NaN      18.250000   \n",
       "25%                NaN              NaN               NaN      35.500000   \n",
       "50%                NaN              NaN               NaN      70.350000   \n",
       "75%                NaN              NaN               NaN      89.850000   \n",
       "max                NaN              NaN               NaN     118.750000   \n",
       "\n",
       "        TotalCharges  Churn  \n",
       "count    7043.000000   7043  \n",
       "unique           NaN      2  \n",
       "top              NaN     No  \n",
       "freq             NaN   5174  \n",
       "mean     2279.734304    NaN  \n",
       "std      2266.794470    NaN  \n",
       "min         0.000000    NaN  \n",
       "25%       398.550000    NaN  \n",
       "50%      1394.550000    NaN  \n",
       "75%      3786.600000    NaN  \n",
       "max      8684.800000    NaN  \n",
       "\n",
       "[11 rows x 21 columns]"
      ]
     },
     "execution_count": 9,
     "metadata": {},
     "output_type": "execute_result"
    }
   ],
   "source": [
    "# Descriptive Statistics - Categorical Values included\n",
    "churn_df.describe(include='all')"
   ]
  },
  {
   "cell_type": "markdown",
   "metadata": {},
   "source": [
    "#### Data Observerations\n",
    "1. Gender Distribution - Dataset has 7043 total observations with only two unique values (Male, Female). Right now there are 3555 Male values Which suggest the data is relatively balanced. \n",
    "2. Senior Citizen Attribute (Prior to DT casting) - The mean value is .162 which can be translated as 16.2 of the userbase is classified as a senior citizen. Additional definition of what describes a Senior Citizen mayh be needed for future analysis (what age classifies senior citizen cut off?)\n",
    "3. Tenure - Mean value is about 32.4% with a min value of 0 months and max months membership of 72 months. STD is 24.6 which can be viewed as a wide variance in the quartiles.\n",
    "4. XService Attributes - This showcases that this one company has multiple offerings  that can appeal to different customer bases. From a business perspective, we may need to study customer propensity to include one service based on the services the customer currently pays for. This can increase market capture for the business writ-large. (Bundling services to a subscription)\n",
    "5. InternetService - Fiber Optic is the most frequent value in this column representing that almost half of the customer base pays for fiber optic services. This could be a business opportunity to focus on members with lower levels of internet service to upgrade potentially reducing the likliness of leaving our service for a competitor.\n",
    "5. Churn - Top value is \"no\" with a frequency count of 5174/7043. This attribute should be used in future analysis"
   ]
  },
  {
   "cell_type": "markdown",
   "metadata": {
    "id": "Jzs6jHL_bAHA"
   },
   "source": [
    "---\n",
    "---"
   ]
  },
  {
   "cell_type": "markdown",
   "metadata": {
    "id": "-Y-dErPdtjIA"
   },
   "source": [
    "## Task 2: Exploratory Data Analysis (EDA)\n",
    "\n",
    "**Objective:** Use statistical analysis and visualization techniques to uncover insights and identify patterns related to custom\ter churn.\n",
    "\n",
    "**Activities:**\n",
    "\n",
    "1. **Visualize distribution of numerical features** to identify any skewed data or outliers.\n",
    "2. **Analyze churn rate by categorical features** to uncover any patterns that may indicate a higher likelihood of churn.\n",
    "3. **Examine relationships between features** using correlation matrices and scatter plots for numerical features, and stacked bar charts for categorical features against churn.\n",
    "4. **Use box plots to identify outliers** in numerical data and understand distributions across churned and retained customers.\n",
    "5. **Create a pair plot** to visualize the pairwise relationships and distributions of numerical features segmented by churn.\n",
    "\n",
    "\n",
    "**Estimated Completion Time:** 90 minutes\n"
   ]
  },
  {
   "cell_type": "markdown",
   "metadata": {
    "id": "6DqZsr66EyvU"
   },
   "source": [
    "**Hints:**\n",
    "\n",
    "* Use `sns.histplot()` for distributions, `sns.countplot()` for categorical data analysis, `sns.heatmap()` for correlation matrices, `sns.boxplot()` for outliers, and `sns.pairplot()` for pairwise relationships.\n",
    "* Remember to import necessary libraries like `seaborn as sns` and `matplotlib.pyplot as plt`.\n"
   ]
  },
  {
   "cell_type": "markdown",
   "metadata": {},
   "source": [
    "### Task 2.1 Visualize distribution of numerical features\n",
    "Created a function to visualize numerical features. \n"
   ]
  },
  {
   "cell_type": "code",
   "execution_count": 31,
   "metadata": {
    "id": "_lX5pshylwlE"
   },
   "outputs": [],
   "source": [
    "def visualize_numerical_histograms(df):\n",
    "    \"\"\"\n",
    "    Purpose - A function that takes in a dataframe and returns histograms on the dataframe's numerical values. \n",
    "              This helps with Exploratory Data Analysis (EDA).\n",
    "    Parameters - Pandas Dataframe\n",
    "    Returns - Nothing\n",
    "    Prints - Histograms to highlight distributions\n",
    "    \"\"\"\n",
    "    # Create numerical only dataframe based on datatypes in the info() output\n",
    "    numerical_only_df = churn_df.select_dtypes(include=['float64', 'int64'])\n",
    "\n",
    "    # Iterate\n",
    "    for column in numerical_only_df.columns:\n",
    "        # format the visualization\n",
    "        plt.figure(figsize=(10,6))\n",
    "        sns.histplot(data=numerical_only_df, x=column, kde=True, bins= 20)\n",
    "        plt.title(f\"Distribution of {column} Column of Churn Dataset\")\n",
    "        plt.xlabel = column\n",
    "        plt.ylabel = 'Frequency'\n",
    "        plt.show()\n"
   ]
  },
  {
   "cell_type": "code",
   "execution_count": 32,
   "metadata": {},
   "outputs": [
    {
     "name": "stderr",
     "output_type": "stream",
     "text": [
      "/Users/scott/miniconda3/envs/techex/lib/python3.10/site-packages/seaborn/_oldcore.py:1119: FutureWarning: use_inf_as_na option is deprecated and will be removed in a future version. Convert inf values to NaN before operating instead.\n",
      "  with pd.option_context('mode.use_inf_as_na', True):\n"
     ]
    },
    {
     "data": {
      "image/png": "[encoded data removed]",
      "text/plain": [
       "<Figure size 1000x600 with 1 Axes>"
      ]
     },
     "metadata": {},
     "output_type": "display_data"
    },
    {
     "name": "stderr",
     "output_type": "stream",
     "text": [
      "/Users/scott/miniconda3/envs/techex/lib/python3.10/site-packages/seaborn/_oldcore.py:1119: FutureWarning: use_inf_as_na option is deprecated and will be removed in a future version. Convert inf values to NaN before operating instead.\n",
      "  with pd.option_context('mode.use_inf_as_na', True):\n"
     ]
    },
    {
     "data": {
      "image/png": "[encoded data removed]",
      "text/plain": [
       "<Figure size 1000x600 with 1 Axes>"
      ]
     },
     "metadata": {},
     "output_type": "display_data"
    },
    {
     "name": "stderr",
     "output_type": "stream",
     "text": [
      "/Users/scott/miniconda3/envs/techex/lib/python3.10/site-packages/seaborn/_oldcore.py:1119: FutureWarning: use_inf_as_na option is deprecated and will be removed in a future version. Convert inf values to NaN before operating instead.\n",
      "  with pd.option_context('mode.use_inf_as_na', True):\n"
     ]
    },
    {
     "data": {
      "image/png": "[encoded data removed]",
      "text/plain": [
       "<Figure size 1000x600 with 1 Axes>"
      ]
     },
     "metadata": {},
     "output_type": "display_data"
    }
   ],
   "source": [
    "# Test and Verifify\n",
    "visualize_numerical_histograms(churn_df)"
   ]
  },
  {
   "cell_type": "markdown",
   "metadata": {},
   "source": [
    "#### Visual Observations\n",
    "1. **Tenure Distribution**: There are two distinct peaks for this attribute, alluding to that the current customer base are either new OR customers that churn quickly. The center dip in the graph may allude to the typical range where churn is likely to happen\n",
    "2. **MonthlyCharges Distribution**: Visually, there is a right skew to this column. There also seems to be a lot of customers who are only paying for $20 for services. This may highlight that these customers are only paying for a single service (internet, phone, etc). From a business/market capture perspective, we can view this as potential customer base to target with the goal of motivating them to add more services to their subscription. The right end of the graph may represent customers who pay for premium-like services or combines multiple service offerings to their subscription. \n",
    "3. **TotalCharges Distributio**n**: This attribute has a long trailing tail towards the right of the graph. Additionally, there are alot of customers with a low \"TotalCharges\" value. This is aligned with teh MonthlyCharges column and may be attributed to the customer base only paying for 1 service. \n",
    "\n",
    "**Business Significance**: The three graphs shows information abou the current customer base. It seems as though there are two \"populations\" in the customer base: Customers who are new, and customers who pay for multiple services. Based on the dip in the MonthlyCharges Distribution, this could be viewed as our customberbase we should focus on."
   ]
  },
  {
   "cell_type": "markdown",
   "metadata": {},
   "source": [
    "#### Statistical Observations: Anderson Tests for Skewness"
   ]
  },
  {
   "cell_type": "code",
   "execution_count": 23,
   "metadata": {},
   "outputs": [
    {
     "name": "stdout",
     "output_type": "stream",
     "text": [
      "tenure\t\t203.24\tNot Normal\n",
      "MonthlyCharges\t170.56\tNot Normal\n",
      "TotalCharges\t346.64\tNot Normal\n"
     ]
    }
   ],
   "source": [
    "def anderson_skewness_test(df):\n",
    "  \"\"\"\n",
    "  Purpose - Conducts anderson skewness test on numerical columns to determine if column is normally distrubuted\n",
    "  Parameters - Pandas Dataframe\n",
    "  Returns - Nothing\n",
    "  Prints - column name, anderson value, whether or not column is normal \n",
    "  \"\"\"\n",
    "  numerics = ['int16', 'int32', 'int64', 'float16', 'float32', 'float64']\n",
    "  for col in df.select_dtypes(include='number'):\n",
    "    a = anderson(df[col], dist='norm')\n",
    "    print(col + \"\\t\", end=\"\")\n",
    "    if len(col) < 8:\n",
    "      print(\"\\t\", end=\"\")\n",
    "    print(f'{a.statistic:.2f}', end=\"\\t\")\n",
    "    if a.statistic < a.critical_values[0]:\n",
    "      print(\"Normal\")\n",
    "    else:\n",
    "      print(\"Not Normal\")\n",
    "  return \n",
    "\n",
    "anderson_skewness_test(churn_df)"
   ]
  },
  {
   "cell_type": "markdown",
   "metadata": {},
   "source": [
    "Observations: \n",
    "- None of our numerical columns are normal at the 15% significance level based on having anderson values above the critical value at the 15% threshold. "
   ]
  },
  {
   "cell_type": "markdown",
   "metadata": {},
   "source": [
    "### Task 2.2 Analyze Churn by Categorical Features"
   ]
  },
  {
   "cell_type": "code",
   "execution_count": 118,
   "metadata": {},
   "outputs": [],
   "source": [
    "def analyze_churn_categorical_features(df):\n",
    "  \"\"\"\n",
    "  Purpose - To identify distribution of categories in categorical features\n",
    "  Parameters - Pandas Dataframe\n",
    "  Returns - Nothing\n",
    "  Prints - Boxplots for the provided pandas Dataframe that can be used for Exploratory Data Analysis (EDA)\n",
    "  \"\"\"\n",
    "  categorical_cols = []\n",
    "  numerical_cols = []\n",
    "  for c in df.columns:\n",
    "    if df[c].map(type).eq(str).any() or df[c].map(type).eq(str).any():\n",
    "      categorical_cols.append(c)\n",
    "    else:\n",
    "      numerical_cols.append(c)\n",
    "\n",
    "  for col in categorical_cols:\n",
    "    count = df[col].nunique() \n",
    "    print(f\"{col}\", end=\"\")\n",
    "    if len(col) < 8:\n",
    "      print(\"\\t\", end=\"\")\n",
    "    if len(col) < 16:\n",
    "      print(\"\\t\", end=\"\")\n",
    "    print(f\" Num Categories: {count}\")\n",
    "    for cat in df[col].unique():\n",
    "      if col == \"customerID\":\n",
    "        continue\n",
    "      count_cat = df[col].value_counts()[cat]  \n",
    "      print(f\"\\t{cat}: {count_cat}, {count_cat/df.shape[0]*100:.2f}%\")\n",
    "    print()\n",
    "    \n",
    "  data_numeric = df[numerical_cols]\n",
    "  data_categorical = pd.DataFrame(df[categorical_cols])\n",
    "    \n",
    "  data_joined = pd.concat([data_numeric, data_categorical], axis=1)\n",
    "    \n",
    "  data_joined.describe(include='all')\n",
    "  data_joined.head()\n",
    "  return\n"
   ]
  },
  {
   "cell_type": "code",
   "execution_count": 119,
   "metadata": {},
   "outputs": [
    {
     "name": "stdout",
     "output_type": "stream",
     "text": [
      "customerID\t Num Categories: 7043\n",
      "\n",
      "gender\t\t Num Categories: 2\n",
      "\tFemale: 3488, 49.52%\n",
      "\tMale: 3555, 50.48%\n",
      "\n",
      "SeniorCitizen\t Num Categories: 2\n",
      "\t0: 5901, 83.79%\n",
      "\t1: 1142, 16.21%\n",
      "\n",
      "Partner\t\t Num Categories: 2\n",
      "\tYes: 3402, 48.30%\n",
      "\tNo: 3641, 51.70%\n",
      "\n",
      "Dependents\t Num Categories: 2\n",
      "\tNo: 4933, 70.04%\n",
      "\tYes: 2110, 29.96%\n",
      "\n",
      "PhoneService\t Num Categories: 2\n",
      "\tNo: 682, 9.68%\n",
      "\tYes: 6361, 90.32%\n",
      "\n",
      "MultipleLines\t Num Categories: 3\n",
      "\tNo phone service: 682, 9.68%\n",
      "\tNo: 3390, 48.13%\n",
      "\tYes: 2971, 42.18%\n",
      "\n",
      "InternetService\t Num Categories: 3\n",
      "\tDSL: 2421, 34.37%\n",
      "\tFiber optic: 3096, 43.96%\n",
      "\tNo: 1526, 21.67%\n",
      "\n",
      "OnlineSecurity\t Num Categories: 3\n",
      "\tNo: 3498, 49.67%\n",
      "\tYes: 2019, 28.67%\n",
      "\tNo internet service: 1526, 21.67%\n",
      "\n",
      "OnlineBackup\t Num Categories: 3\n",
      "\tYes: 2429, 34.49%\n",
      "\tNo: 3088, 43.84%\n",
      "\tNo internet service: 1526, 21.67%\n",
      "\n",
      "DeviceProtection Num Categories: 3\n",
      "\tNo: 3095, 43.94%\n",
      "\tYes: 2422, 34.39%\n",
      "\tNo internet service: 1526, 21.67%\n",
      "\n",
      "TechSupport\t Num Categories: 3\n",
      "\tNo: 3473, 49.31%\n",
      "\tYes: 2044, 29.02%\n",
      "\tNo internet service: 1526, 21.67%\n",
      "\n",
      "StreamingTV\t Num Categories: 3\n",
      "\tNo: 2810, 39.90%\n",
      "\tYes: 2707, 38.44%\n",
      "\tNo internet service: 1526, 21.67%\n",
      "\n",
      "StreamingMovies\t Num Categories: 3\n",
      "\tNo: 2785, 39.54%\n",
      "\tYes: 2732, 38.79%\n",
      "\tNo internet service: 1526, 21.67%\n",
      "\n",
      "Contract\t Num Categories: 3\n",
      "\tMonth-to-month: 3875, 55.02%\n",
      "\tOne year: 1473, 20.91%\n",
      "\tTwo year: 1695, 24.07%\n",
      "\n",
      "PaperlessBilling Num Categories: 2\n",
      "\tYes: 4171, 59.22%\n",
      "\tNo: 2872, 40.78%\n",
      "\n",
      "PaymentMethod\t Num Categories: 4\n",
      "\tElectronic check: 2365, 33.58%\n",
      "\tMailed check: 1612, 22.89%\n",
      "\tBank transfer (automatic): 1544, 21.92%\n",
      "\tCredit card (automatic): 1522, 21.61%\n",
      "\n",
      "Churn\t\t Num Categories: 2\n",
      "\tNo: 5174, 73.46%\n",
      "\tYes: 1869, 26.54%\n",
      "\n"
     ]
    }
   ],
   "source": [
    "analyze_churn_categorical_features(churn_df)"
   ]
  },
  {
   "cell_type": "markdown",
   "metadata": {},
   "source": [
    "#### Observations \n",
    "- **Encoding Techniques**: Based on the distributions, it is likely a LabelEncoder is the best way to encode the various categorial columns in the dataset. "
   ]
  },
  {
   "cell_type": "markdown",
   "metadata": {},
   "source": [
    "### Task 2.3: Use Boxplots to identify outliers in numerical data"
   ]
  },
  {
   "cell_type": "code",
   "execution_count": 19,
   "metadata": {},
   "outputs": [],
   "source": [
    "# Visualize Box Plots\n",
    "def create_boxplots(df):\n",
    "    \"\"\"\n",
    "    Purpose - To create boxplots of a given dataframe\n",
    "    Parameters - Pandas Dataframe\n",
    "    Returns - Nothing\n",
    "    Prints - Boxplots for the provided pandas Dataframe that can be used for Exploratory Data Analysis (EDA)\n",
    "    \"\"\"\n",
    "    # Create numerical only dataframe\n",
    "    numerical_only_df = churn_df.select_dtypes(include=['float64', 'int64'])\n",
    "    # Base figure width that can be  scale based on the range of the data\n",
    "    base_width = 5\n",
    "    max_width = 15 # added to resolve ValueError: Image size of 217119x400 pixels is too large. It must be less than 2^16 in each direction.\n",
    "\n",
    "    # Iterate over each column\n",
    "    for column in numerical_only_df:\n",
    "        # Calculate the range of the column data\n",
    "        data_range = numerical_only_df[column].max() - numerical_only_df[column].min()\n",
    "        \n",
    "        # Scale the figure width, we use max to ensure a minimum width is maintained\n",
    "        figure_width = min(max(base_width, base_width * (data_range / 20)), max_width)  # Updated as part of max_width \n",
    "        \n",
    "        # Create a figure with the adjusted size\n",
    "        plt.figure(figsize=(figure_width, 4))  # Height is kept constant\n",
    "        plt.title(f'Boxplot for {column} Attribute')\n",
    "        sns.boxplot(x=df[column], orient='h')\n",
    "        \n",
    "        plt.show() "
   ]
  },
  {
   "cell_type": "code",
   "execution_count": 18,
   "metadata": {},
   "outputs": [
    {
     "data": {
      "image/png": "[encoded data removed]",
      "text/plain": [
       "<Figure size 1500x400 with 1 Axes>"
      ]
     },
     "metadata": {},
     "output_type": "display_data"
    },
    {
     "data": {
      "image/png": "[encoded data removed]",
      "text/plain": [
       "<Figure size 1500x400 with 1 Axes>"
      ]
     },
     "metadata": {},
     "output_type": "display_data"
    },
    {
     "data": {
      "image/png": "[encoded data removed]",
      "text/plain": [
       "<Figure size 1500x400 with 1 Axes>"
      ]
     },
     "metadata": {},
     "output_type": "display_data"
    }
   ],
   "source": [
    "create_boxplots(churn_df)"
   ]
  },
  {
   "cell_type": "markdown",
   "metadata": {},
   "source": [
    "#### Boxplot Observations\n",
    "1. **SeniorCitizen (Prior to casting)** - There seems to be an outlier that returns an ineffective boxplot. I need to create a function that can handle outliers. I originally thought handling the figure width was needed to resolve the error. \n",
    "2. **Tenure Boxplot** : This attrribute looks relatively uniform. This graph visually describes the customers who been wiht the services for a long time\n",
    "3. **MonthlyCharges Boxplot**: The median placement on the graph confirms the right skew nature from the histogram. This plot also confirms the observation that customers tend to have lower monthly charges or are paying for single services vs bundling services\n",
    "4. **TotalCharges Boxplot**: The skewness of this attribute is more apparent in the boxplot. The median value represents that half of the customer base is clustered towards the lower end of charges. Potential outliers as indicated by the long tail on the right side of the plot"
   ]
  },
  {
   "cell_type": "code",
   "execution_count": 19,
   "metadata": {},
   "outputs": [
    {
     "data": {
      "text/html": [
       "<div>\n",
       "<style scoped>\n",
       "    .dataframe tbody tr th:only-of-type {\n",
       "        vertical-align: middle;\n",
       "    }\n",
       "\n",
       "    .dataframe tbody tr th {\n",
       "        vertical-align: top;\n",
       "    }\n",
       "\n",
       "    .dataframe thead th {\n",
       "        text-align: right;\n",
       "    }\n",
       "</style>\n",
       "<table border=\"1\" class=\"dataframe\">\n",
       "  <thead>\n",
       "    <tr style=\"text-align: right;\">\n",
       "      <th></th>\n",
       "      <th>tenure</th>\n",
       "      <th>MonthlyCharges</th>\n",
       "      <th>TotalCharges</th>\n",
       "    </tr>\n",
       "  </thead>\n",
       "  <tbody>\n",
       "    <tr>\n",
       "      <th>tenure</th>\n",
       "      <td>1.000000</td>\n",
       "      <td>0.247900</td>\n",
       "      <td>0.826178</td>\n",
       "    </tr>\n",
       "    <tr>\n",
       "      <th>MonthlyCharges</th>\n",
       "      <td>0.247900</td>\n",
       "      <td>1.000000</td>\n",
       "      <td>0.651174</td>\n",
       "    </tr>\n",
       "    <tr>\n",
       "      <th>TotalCharges</th>\n",
       "      <td>0.826178</td>\n",
       "      <td>0.651174</td>\n",
       "      <td>1.000000</td>\n",
       "    </tr>\n",
       "  </tbody>\n",
       "</table>\n",
       "</div>"
      ],
      "text/plain": [
       "                  tenure  MonthlyCharges  TotalCharges\n",
       "tenure          1.000000        0.247900      0.826178\n",
       "MonthlyCharges  0.247900        1.000000      0.651174\n",
       "TotalCharges    0.826178        0.651174      1.000000"
      ]
     },
     "execution_count": 19,
     "metadata": {},
     "output_type": "execute_result"
    }
   ],
   "source": [
    "# Correlation matrix and heatmap visualization\n",
    "correlation_matrix = churn_df.corr(numeric_only=True)\n",
    "correlation_matrix"
   ]
  },
  {
   "cell_type": "code",
   "execution_count": 20,
   "metadata": {},
   "outputs": [
    {
     "data": {
      "image/png": "[encoded data removed]",
      "text/plain": [
       "<Figure size 640x480 with 2 Axes>"
      ]
     },
     "metadata": {},
     "output_type": "display_data"
    }
   ],
   "source": [
    "# Heatmap visualization of the correlation matrix \n",
    "# Purpose of visualizing Correlation Matrix - To see the relationships more apparently \n",
    "sns.heatmap(correlation_matrix, annot=True)\n",
    "plt.show()"
   ]
  },
  {
   "cell_type": "markdown",
   "metadata": {},
   "source": [
    "### Correlation Matrix and Heatmap Observations:\n",
    "1. There are positive relationships amongst the 3 numerical attributes.\n",
    "2. **SeniorCitizen vs Tenure (Prior to Casting)e** = The value is so close to 0 that it alludes to there is no relationship at all between these two attributes \n",
    "3. Tenure vs Monthly Charges - There is a slightly positive relationship between these two attributes. This suggests that as tenure increases, monthyl charges also increase slightly since they are positively correlated, although weak. This is an interesting anamoly as businesses tend to \"reward\" long-term customers or value their business throughout the years. This could be the business' approach to handle inflation."
   ]
  },
  {
   "cell_type": "code",
   "execution_count": 20,
   "metadata": {},
   "outputs": [],
   "source": [
    "def chi_squared_test(df, target):\n",
    "    \"\"\"\n",
    "    Purpose - to assist in EDA on categorical data. This function performs a Chi-squared test on all all categorical \n",
    "            attributes in a df against the target variable.\n",
    "    Target Variable - 'Churn'\n",
    "    Parameters- pandas dataframe with numerical and categorical data\n",
    "    Return - results of the chi2 test in the 'results' variable\n",
    "    Prints - The Chi-squared statistic and p-value for each pair of categorical columns.\n",
    "    \"\"\"\n",
    "    # Select Object dt based off the output from info()\n",
    "    categorical_cols = df.select_dtypes(include=['object']).columns\n",
    "    significant_results = []\n",
    "\n",
    "    # Check if 'Churn' Column is present. If not, prompt the user\n",
    "    if target not in categorical_cols:\n",
    "        print(f\"The target variable {target} is not found. Please verify\")\n",
    "        return significant_results\n",
    "\n",
    "    # Perform a Chi-squared test for each pair of categorical variables\n",
    "    for col in categorical_cols:\n",
    "        if col == target:\n",
    "            continue\n",
    "        # Create a contingency table\n",
    "        contingency_table = pd.crosstab(df[col], df[target])\n",
    "\n",
    "        # Perform the Chi-squared test - chi2 value, p value, degrees of freedom and expected frequencies if null hypothesis were true\n",
    "        chi2, p, dof, expected = chi2_contingency(contingency_table)\n",
    "\n",
    "        # Save the result IF p value is less than or equal to 0.05 - Statistically significant\n",
    "        if p <= 0.05:\n",
    "            significant_results.append({\n",
    "                'Column 1': col,\n",
    "                'Chi-squared Statistic': chi2,\n",
    "                'p-value': p\n",
    "            })\n",
    "\n",
    "            # Output the result\n",
    "            print(f\"Chi-squared test for {col} and {target}\")\n",
    "            print(f\"Chi-squared Statistic: {round(chi2,2)}, p-value: {round(p,4)}\\n\")\n",
    "\n",
    "    return significant_results"
   ]
  },
  {
   "cell_type": "code",
   "execution_count": 21,
   "metadata": {},
   "outputs": [
    {
     "name": "stdout",
     "output_type": "stream",
     "text": [
      "Chi-squared test for SeniorCitizen and Churn\n",
      "Chi-squared Statistic: 159.43, p-value: 0.0\n",
      "\n",
      "Chi-squared test for Partner and Churn\n",
      "Chi-squared Statistic: 158.73, p-value: 0.0\n",
      "\n",
      "Chi-squared test for Dependents and Churn\n",
      "Chi-squared Statistic: 189.13, p-value: 0.0\n",
      "\n",
      "Chi-squared test for MultipleLines and Churn\n",
      "Chi-squared Statistic: 11.33, p-value: 0.0035\n",
      "\n",
      "Chi-squared test for InternetService and Churn\n",
      "Chi-squared Statistic: 732.31, p-value: 0.0\n",
      "\n",
      "Chi-squared test for OnlineSecurity and Churn\n",
      "Chi-squared Statistic: 850.0, p-value: 0.0\n",
      "\n",
      "Chi-squared test for OnlineBackup and Churn\n",
      "Chi-squared Statistic: 601.81, p-value: 0.0\n",
      "\n",
      "Chi-squared test for DeviceProtection and Churn\n",
      "Chi-squared Statistic: 558.42, p-value: 0.0\n",
      "\n",
      "Chi-squared test for TechSupport and Churn\n",
      "Chi-squared Statistic: 828.2, p-value: 0.0\n",
      "\n",
      "Chi-squared test for StreamingTV and Churn\n",
      "Chi-squared Statistic: 374.2, p-value: 0.0\n",
      "\n",
      "Chi-squared test for StreamingMovies and Churn\n",
      "Chi-squared Statistic: 375.66, p-value: 0.0\n",
      "\n",
      "Chi-squared test for Contract and Churn\n",
      "Chi-squared Statistic: 1184.6, p-value: 0.0\n",
      "\n",
      "Chi-squared test for PaperlessBilling and Churn\n",
      "Chi-squared Statistic: 258.28, p-value: 0.0\n",
      "\n",
      "Chi-squared test for PaymentMethod and Churn\n",
      "Chi-squared Statistic: 648.14, p-value: 0.0\n",
      "\n"
     ]
    },
    {
     "data": {
      "text/plain": [
       "[{'Column 1': 'SeniorCitizen',\n",
       "  'Chi-squared Statistic': 159.42630036838742,\n",
       "  'p-value': 1.510066805092378e-36},\n",
       " {'Column 1': 'Partner',\n",
       "  'Chi-squared Statistic': 158.7333820309922,\n",
       "  'p-value': 2.1399113440759935e-36},\n",
       " {'Column 1': 'Dependents',\n",
       "  'Chi-squared Statistic': 189.12924940423474,\n",
       "  'p-value': 4.9249216612154196e-43},\n",
       " {'Column 1': 'MultipleLines',\n",
       "  'Chi-squared Statistic': 11.33044148319756,\n",
       "  'p-value': 0.0034643829548773},\n",
       " {'Column 1': 'InternetService',\n",
       "  'Chi-squared Statistic': 732.309589667794,\n",
       "  'p-value': 9.571788222840544e-160},\n",
       " {'Column 1': 'OnlineSecurity',\n",
       "  'Chi-squared Statistic': 849.9989679615965,\n",
       "  'p-value': 2.661149635176552e-185},\n",
       " {'Column 1': 'OnlineBackup',\n",
       "  'Chi-squared Statistic': 601.812790113409,\n",
       "  'p-value': 2.0797592160864276e-131},\n",
       " {'Column 1': 'DeviceProtection',\n",
       "  'Chi-squared Statistic': 558.419369407389,\n",
       "  'p-value': 5.505219496457244e-122},\n",
       " {'Column 1': 'TechSupport',\n",
       "  'Chi-squared Statistic': 828.1970684587394,\n",
       "  'p-value': 1.4430840279998987e-180},\n",
       " {'Column 1': 'StreamingTV',\n",
       "  'Chi-squared Statistic': 374.2039433109813,\n",
       "  'p-value': 5.528994485739183e-82},\n",
       " {'Column 1': 'StreamingMovies',\n",
       "  'Chi-squared Statistic': 375.6614793452656,\n",
       "  'p-value': 2.667756755723681e-82},\n",
       " {'Column 1': 'Contract',\n",
       "  'Chi-squared Statistic': 1184.5965720837926,\n",
       "  'p-value': 5.863038300673391e-258},\n",
       " {'Column 1': 'PaperlessBilling',\n",
       "  'Chi-squared Statistic': 258.27764906707307,\n",
       "  'p-value': 4.073354668665985e-58},\n",
       " {'Column 1': 'PaymentMethod',\n",
       "  'Chi-squared Statistic': 648.1423274814,\n",
       "  'p-value': 3.6823546520097993e-140}]"
      ]
     },
     "execution_count": 21,
     "metadata": {},
     "output_type": "execute_result"
    }
   ],
   "source": [
    "# Test by calling the function\n",
    "chi_squared_test(churn_df, 'Churn')"
   ]
  },
  {
   "cell_type": "markdown",
   "metadata": {},
   "source": [
    "### Chi-Squared On Categorical Values Observations\n",
    "\n",
    "- To identify the relationship between categorical values and our target variable of \"Churn\", we created a function to run the chi-squared test on our dataframe.\n",
    "- Low p-values across the attributes, confirming strong rejection of the null hypothesis\n",
    "- These attributes may have strong predicitve power in our future modeling\n",
    "\n",
    "**Attributes with strong Association with 'Churn' (Chi Statistic values are 500 or greater)**\n",
    "1.  InternetService\n",
    "2.  OnlineSecurity\n",
    "3.  OnlineBackup\n",
    "4.  DeviceProtection\n",
    "5.  TechSupport\n",
    "6.  PaymentMethod\n",
    "7.  Contract"
   ]
  },
  {
   "cell_type": "markdown",
   "metadata": {},
   "source": [
    "### Task 2.5: Create Pair Plot"
   ]
  },
  {
   "cell_type": "code",
   "execution_count": 121,
   "metadata": {},
   "outputs": [],
   "source": [
    "def create_pair_plot(df): \n",
    "    \"\"\"\n",
    "    Purpose - \n",
    "    Parameters - \n",
    "    Return - \n",
    "    Prints - \n",
    "    \"\"\"\n",
    "    pass"
   ]
  },
  {
   "cell_type": "code",
   "execution_count": 122,
   "metadata": {},
   "outputs": [],
   "source": [
    "create_pair_plot(churn_df)"
   ]
  },
  {
   "cell_type": "markdown",
   "metadata": {},
   "source": [
    "#### Observations"
   ]
  },
  {
   "cell_type": "markdown",
   "metadata": {
    "id": "uoz04XzUa9DI"
   },
   "source": [
    "---\n",
    "---"
   ]
  },
  {
   "cell_type": "markdown",
   "metadata": {
    "id": "DQ70QDBdtiRu"
   },
   "source": [
    "## Task 3: Data Preprocessing\n",
    "\n",
    "**Objective:** Split the dataset into training and testing sets, then clean the training dataset by handling missing values, outliers, and duplicate entries using `feature_engine` to prepare for further analysis.\n",
    "\n",
    "**Activities:**\n",
    "\n",
    "1. **Split the dataset into training and testing** sets to ensure a fair evaluation of the model built on processed data.\n",
    "2. **Handle missing values** in the training set using appropriate imputation techniques.\n",
    "3. **Identify and treat outliers** in numerical features of the training set to minimize their impact.\n",
    "4. **Check for and remove constant and duplicate entries** in the training set to maintain data integrity.\n",
    "5. **Apply the same preprocessing steps** (imputation, outlier handling) to the test set using parameters derived from the training set to maintain consistency and prevent data leakage.\n",
    "\n",
    "**Estimated Completion Time:** 90 minutes\n",
    "\n",
    "***Note:*** *The splitting of the dataset into training and testing sets before preprocessing is a best practice in machine learning. This approach ensures that the model is evaluated on unseen data that has been processed in the same way as the training data, without using information from the test set during the training phase.*\n",
    "\n"
   ]
  },
  {
   "cell_type": "markdown",
   "metadata": {
    "id": "llKBUa5sbF1Z"
   },
   "source": [
    "**Hints:**\n",
    "\n",
    "* Use `train_test_split` from `sklearn.model_selection` to split your data.\n",
    "* Handle numerical missing values with pandas `.fillna()`, sklearn's `SimpleImputer` or feature-engine's `MeanMedianImputer`.\n",
    "* Detect and handle outliers by calculating IQR or using feature_engine's Winsorizer.\n",
    "* Remove duplicates using DataFrame's `.drop_duplicates()` method or feature-engine's `DropDuplicateFeatures()` class."
   ]
  },
  {
   "cell_type": "code",
   "execution_count": null,
   "metadata": {
    "id": "Ifw4KHXHthI_"
   },
   "outputs": [],
   "source": [
    "# Create a copy of the original data fram for break glass scenarios\n",
    "churn_original = churn_df.copy()\n",
    "\n",
    "# Isolate target variable to its own variable with all column values\n",
    "target = churn_df['Churn']\n",
    "\n",
    "# Drop Columns\n",
    "# churn_dropped = churn_df.drop(columns=['Churn', 'customerID', 'gender', 'PaperlessBilling' ,'PaymentMethod'], axis=1, inplace= True)\n",
    "\n",
    "# Impute if Necessary\n",
    "\n",
    "# Normalize the Data\n",
    "\n",
    "# Fit and Transform\n",
    "\n",
    "# Split the Data\n",
    "\n"
   ]
  },
  {
   "cell_type": "markdown",
   "metadata": {
    "id": "UZ2zYoA8bFvk"
   },
   "source": [
    "---\n",
    "---"
   ]
  },
  {
   "cell_type": "markdown",
   "metadata": {
    "id": "Uet5FuWiXIfv"
   },
   "source": [
    "## Task 4: Feature Selection and Engineering\n",
    "\n",
    "**Objective:** Create new features that might improve model performance, transform applicable features, and select the most relevant features for modeling.\n",
    "\n",
    "**Activities:**\n",
    "\n",
    "  1. **Feature Creation:** Create a feature that captures the customer's total spend relative to their tenure. This could highlight customers who might be paying more over a shorter period, potentially indicating dissatisfaction..\n",
    "  2. **Feature Transformation:**  Normalize skewed features such as MonthlyCharges and TotalCharges using a variance stabilizer to make their distribution more symmetric, which can help certain algorithms perform better.\n",
    "  3. **Feature Selection:** Use mutual information or another model-based feature selection method to identify features that have the most significant relationship with the target variable, `Churn`.\n",
    "\n",
    "**Estimated Completion Time:** 90 minutes"
   ]
  },
  {
   "cell_type": "code",
   "execution_count": null,
   "metadata": {
    "id": "xFX8Qs52X7J9"
   },
   "outputs": [],
   "source": []
  },
  {
   "cell_type": "markdown",
   "metadata": {
    "id": "YmxMR_khcbsa"
   },
   "source": [
    "**Hints:**\n",
    "\n",
    "* Create new features based on existing data that might indicate behavioral patterns.\n",
    "* Use feature_engine's `YeoJohnsonTransformer` or manual transformations for skewed features.\n",
    "* Select relevant features based on mutual information using `SelectKBest` from sklearn."
   ]
  },
  {
   "cell_type": "markdown",
   "metadata": {
    "id": "GdJsFCpCcm72"
   },
   "source": [
    "---\n",
    "---"
   ]
  },
  {
   "cell_type": "markdown",
   "metadata": {
    "id": "x7tuCkb1XIc2"
   },
   "source": [
    "## Task 5: Logistic Regression and Assumptions Validation\n",
    "\n",
    "**Objective:** Implement a logistic regression model and validate its assumptions, adjusting features as necessary.\n",
    "\n",
    "**Activities:**\n",
    "\n",
    "  1. **Fit a logistic regression model** using the selected features from Task 4 to predict customer churn.\n",
    "  2. **Validate that the relationship** between log odds and each independent variable is linear.\n",
    "  3. **Check for multicollinearity** among predictors.\n",
    "  4. **Ensure that the residuals (errors) are independent** of each other.\n",
    "  5. **Check that the variance of error terms is consistent** across all levels of the independent variables.\n",
    "  6. **Identify and address extreme outliers** that could unduly influence the model.\n",
    "  7. **Adjust features** based on the findings from assumption validations. This may involve transforming variables, removing or adding features, or addressing outliers and multicollinearity.\n",
    "  8. **Fit a new logistic regression model** and compare its results with the initial model\n",
    "\n",
    "**Estimated Completion Time:** 90 minutes"
   ]
  },
  {
   "cell_type": "code",
   "execution_count": null,
   "metadata": {
    "id": "0pchACGMYaPI"
   },
   "outputs": [],
   "source": []
  },
  {
   "cell_type": "markdown",
   "metadata": {
    "id": "zvzwImICcv0M"
   },
   "source": [
    "**Hints:**\n",
    "\n",
    "* Fit the logistic regression model using `LogisticRegression` from sklearn.\n",
    "* Validate linearity using scatter plots or seaborn’s `lmplot`.\n",
    "* Check multicollinearity with VIF from the statsmodels library.\n",
    "* Assess model residuals with `residplot` from seaborn or manually plot residuals."
   ]
  },
  {
   "cell_type": "markdown",
   "metadata": {
    "id": "0geY8gEzc8vA"
   },
   "source": [
    "---\n",
    "---"
   ]
  },
  {
   "cell_type": "markdown",
   "metadata": {
    "id": "3ufY2jjLXIaU"
   },
   "source": [
    "## Task 6: Decision Trees, Random Forests, and Model Complexity\n",
    "\n",
    "**Objective:** Build decision tree and random forest models, focusing on understanding and tuning model complexity to avoid overfitting.\n",
    "\n",
    "**Activities:**\n",
    "\n",
    "  1. **Use the decision tree classifier** to create a model for predicting customer churn. Focus on understanding the default model complexity and its impact on performance.\n",
    "  2. **Experiment with parameters** that control the complexity of the decision tree, such as max_depth, min_samples_split, and min_samples_leaf, to find a balance that reduces overfitting while maintaining good predictive performance.\n",
    "  3. **Implement a random forest classifier** to improve prediction accuracy and robustness by aggregating multiple decision trees.\n",
    "  4. **Adjust parameters** such as n_estimators, max_depth, and max_features to optimize the random forest model. Aim to enhance model accuracy without significant overfitting.\n",
    "  5. **Use metrics** such as accuracy, precision, recall, F1 score, and the ROC-AUC score to evaluate and compare the decision tree and random forest models.\n",
    "  6. **Investigate the features that are most influential** in predicting customer churn according to the random forest model.\n",
    "\n",
    "**Estimated Completion Time:** 90 minutes\n"
   ]
  },
  {
   "cell_type": "code",
   "execution_count": null,
   "metadata": {
    "id": "r3aR46AeYvnq"
   },
   "outputs": [],
   "source": []
  },
  {
   "cell_type": "markdown",
   "metadata": {
    "id": "CBkc8LMydCpT"
   },
   "source": [
    "**Hints:**\n",
    "\n",
    "* Train models using `DecisionTreeClassifier` and `RandomForestClassifier` from sklearn.\n",
    "* Use `GridSearchCV` or `RandomSearchCV` for hyperparameter tuning.\n",
    "* Evaluate model performance with `sklearn.metrics` and visualize feature importance."
   ]
  },
  {
   "cell_type": "markdown",
   "metadata": {
    "id": "hhDgD4uldCgB"
   },
   "source": [
    "---\n",
    "---"
   ]
  },
  {
   "cell_type": "markdown",
   "metadata": {
    "id": "RwkZyCcdXIXs"
   },
   "source": [
    "## Task 7: SVM and KNN Implementation\n",
    "\n",
    "**Objective:** Apply SVM and KNN algorithms to the churn prediction problem, highlighting the importance of data scaling and parameter tuning.\n",
    "\n",
    "**Activities:**\n",
    "\n",
    "  1. **Scale the feature set** to ensure that SVM and KNN algorithms perform optimally, as both are sensitive to the scale of input data.\n",
    "  2. **Train an SVM model** on the scaled feature set. Start with the default hyperparameters to establish a baseline performance.\n",
    "  3. **Optimize SVM parameters** including C (regularization parameter) and kernel to improve model performance.\n",
    "  4. **Apply the KNN algorithm**, initially using a small k (e.g., 5) to model the churn prediction problem.\n",
    "  5. **Find the optimal k value** for KNN. Consider the balance between underfitting and overfitting as k changes.\n",
    "  6. **Compare the performance of SVM and KNN models** based on accuracy, precision, recall, F1 score, and ROC-AUC score. Discuss the strengths and weaknesses of each model in the context of the churn prediction problem.\n",
    "  7. For SVM models, especially linear kernel SVM, **examine the coefficients of features** to understand their impact on the prediction. Use this insight to refine the feature set and improve model simplicity and performance.\n",
    "\n",
    "**Estimated Completion Time:** 120 minutes"
   ]
  },
  {
   "cell_type": "code",
   "execution_count": null,
   "metadata": {
    "id": "uArCKf6GZM1O"
   },
   "outputs": [],
   "source": []
  },
  {
   "cell_type": "markdown",
   "metadata": {
    "id": "2VWJzOHAdWi1"
   },
   "source": [
    "**Hints:**\n",
    "\n",
    "* Scale features using `StandardScaler` or `RobustScaler` before applying `SVM` or `KNN`.\n",
    "* Train `SVM` using `SVC` and tune with `GridSearchCV` or with `RamdomSearchCV`.\n",
    "* Implement KNN using `KNeighborsClassifier` and find the best k through cross-validation.\n",
    "* Compare model metrics using sklearn's evaluation functions."
   ]
  },
  {
   "cell_type": "markdown",
   "metadata": {
    "id": "wAgP24pudWZJ"
   },
   "source": [
    "---\n",
    "---"
   ]
  },
  {
   "cell_type": "markdown",
   "metadata": {
    "id": "MPhbeIYkXIUe"
   },
   "source": [
    "##Task 8: Model Evaluation and Comparison\n",
    "\n",
    "**Objective:** Evaluate the performance of each model using metrics like accuracy, precision, recall, and F1 score, and select the best model based on these metrics.\n",
    "\n",
    "**Activities:**\n",
    "\n",
    "  1. **Gather predictions** from all previously implemented models (Logistic Regression, Decision Trees, Random Forests, SVM, KNN) on the test dataset.\n",
    "  2. **Calculate and compare** the accuracy of each model.\n",
    "  3. **Compute precision, recall, and F1 scores** for each model to evaluate their performance beyond mere accuracy.\n",
    "  4. **Calculate the ROC-AUC score** for each model to assess their overall ability to discriminate between positive and negative classes.\n",
    "  5. **Compare all models** based on the calculated test metrics and select the best performing model(s) for the churn prediction problem.\n",
    "  6. **Perform an error analysis** on the selected model to identify patterns in the misclassifications.\n",
    "  7. Based on the evaluation and comparison, **recommend the best model** for predicting customer churn and justify your recommendation.\n",
    "\n",
    "**Estimated Completion Time:** 90 minutes"
   ]
  },
  {
   "cell_type": "code",
   "execution_count": null,
   "metadata": {
    "id": "h1MLNndFZj0a"
   },
   "outputs": [],
   "source": []
  },
  {
   "cell_type": "markdown",
   "metadata": {
    "id": "3sTyhBKvdu8E"
   },
   "source": [
    "**Hints:**\n",
    "\n",
    "* Compile predictions from all models and use `accuracy_score`, `precision_score`, `recall_score`, `f1_score`, and `roc_auc_score` for evaluation.\n",
    "* Create a summary table or visualization to compare model performances.\n",
    "* Conduct error analysis by reviewing the confusion matrix and misclassified examples."
   ]
  },
  {
   "cell_type": "markdown",
   "metadata": {
    "id": "FZ99mVkvdu5h"
   },
   "source": [
    "---\n",
    "---\n",
    "---"
   ]
  }
 ],
 "metadata": {
  "colab": {
   "authorship_tag": "ABX9TyPgv031jxd1pYpj/2LkAy2D",
   "private_outputs": true,
   "provenance": [],
   "toc_visible": true
  },
  "kernelspec": {
   "display_name": "techex",
   "language": "python",
   "name": "techex"
  },
  "language_info": {
   "codemirror_mode": {
    "name": "ipython",
    "version": 3
   },
   "file_extension": ".py",
   "mimetype": "text/x-python",
   "name": "python",
   "nbconvert_exporter": "python",
   "pygments_lexer": "ipython3",
   "version": "3.10.13"
  }
 },
 "nbformat": 4,
 "nbformat_minor": 4
}
